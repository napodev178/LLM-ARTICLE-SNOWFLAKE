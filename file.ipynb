{
 "cells": [
  {
   "cell_type": "code",
   "execution_count": null,
   "metadata": {},
   "outputs": [],
   "source": [
    "conda install snowflake-ml-python"
   ]
  },
  {
   "cell_type": "code",
   "execution_count": null,
   "metadata": {},
   "outputs": [],
   "source": [
    "from snowflake.ml.registry import model_registry\n",
    "\n",
    "result = model_registry.create_model_registry(\n",
    "    session=session,\n",
    "    database_name=\"<your_database_name>\",\n",
    "    schema_name='MODEL_REGISTRY'\n",
    ")\n",
    "# document code\n",
    "print(result)"
   ]
  },
  {
   "cell_type": "code",
   "execution_count": null,
   "metadata": {},
   "outputs": [],
   "source": [
    "registry = model_registry.ModelRegistry(\n",
    "    session=session,\n",
    "    database_name=\"<your_database_name>\",\n",
    "    schema_name='MODEL_REGISTRY'\n",
    ")"
   ]
  },
  {
   "cell_type": "code",
   "execution_count": null,
   "metadata": {},
   "outputs": [],
   "source": [
    "#Getting a model from the registry always returns a specific version of the model, so it is necessary to specify the version you want when you retrieve the model.\n",
    "\n",
    "model = model_registry.ModelReference(\n",
    "            registry=registry,\n",
    "            model_name=\"my_model\",\n",
    "            model_version=\"101\")"
   ]
  },
  {
   "cell_type": "code",
   "execution_count": null,
   "metadata": {},
   "outputs": [],
   "source": [
    "#3 install pytorch libraries\n",
    "\n",
    "conda install pytorch torchvision torchaudio pytorch-cuda=11.8 -c pytorch -c nvidia"
   ]
  },
  {
   "cell_type": "code",
   "execution_count": null,
   "metadata": {},
   "outputs": [],
   "source": [
    "import os\n",
    "from transformers import AutoTokenizer, AutoModelForSequenceClassification\n",
    "\n",
    "# Loading the model and the tokenizer\n",
    "model = AutoModelForSequenceClassification.from_pretrained('Facebook/bart-large-mnli')\n",
    "tokenizer = AutoTokenizer.from_pretrained('Facebook/bart-large-mnli')\n",
    "\n",
    "# Save the model locally\n",
    "ARTIFACTS_DIR = \"/tmp/facebook-bart-large-mnli/\"\n",
    "os.makedirs(os.path.join(ARTIFACTS_DIR, \"model\"), exist_ok=True)\n",
    "os.makedirs(os.path.join(ARTIFACTS_DIR, \"tokenizer\"), exist_ok=True)\n",
    "model.save_pretrained(os.path.join(ARTIFACTS_DIR, \"model\"))\n",
    "tokenizer.save_pretrained(os.path.join(ARTIFACTS_DIR, \"tokenizer\"))\n",
    "\n",
    "\n",
    "#3 document code\n",
    "\n",
    "\n",
    "class FacebookBartLargeMNLICustom(custom_model.CustomModel):\n",
    "   def __init__(self, context: custom_model.ModelContext) -> None:\n",
    "       super().__init__(context)\n",
    "\n",
    "       self.model = AutoModelForSequenceClassification.from_pretrained(self.context.path(\"model\"))\n",
    "       self.tokenizer = AutoTokenizer.from_pretrained(self.context.path(\"tokenizer\"))\n",
    "       self.candidate_labels = ['customer support', 'product experience', 'account issues']\n",
    "\n",
    "\n",
    "\n",
    "   @custom_model.inference_api\n",
    "   def predict(self, X: pd.DataFrame) -> pd.DataFrame:\n",
    "       def _generate(input_text: str) -> str:\n",
    "           classifier = pipeline(\n",
    "               \"zero-shot-classification\",\n",
    "               model=self.model,\n",
    "               tokenizer=self.tokenizer\n",
    "           )\n",
    "\n",
    "           result = classifier(input_text, self.candidate_labels)\n",
    "           if 'scores' in result and 'labels' in result:\n",
    "               category_idx = pd.Series(result['scores']).idxmax()\n",
    "               return result['labels'][category_idx]\n",
    "\n",
    "           return None\n",
    "\n",
    "       res_df = pd.DataFrame({\"output\": pd.Series.apply(X[\"input\"], _generate)})\n",
    "       return res_df"
   ]
  },
  {
   "cell_type": "code",
   "execution_count": null,
   "metadata": {},
   "outputs": [],
   "source": [
    "model = FacebookBartLargeMNLICustom(custom_model.ModelContext(models={}, artifacts={\n",
    "   \"model\":os.path.join(ARTIFACTS_DIR, \"model\"),\n",
    "   \"tokenizer\":os.path.join(ARTIFACTS_DIR, \"tokenizer\")\n",
    "}))\n",
    "\n",
    "model.predict(pd.DataFrame({\"input\":[\"The interface gets frozen very often\"]}))"
   ]
  },
  {
   "cell_type": "code",
   "execution_count": null,
   "metadata": {},
   "outputs": [],
   "source": [
    "from snowflake.ml.model import model_signature\n",
    "\n",
    "model_id = registry.log_model(\n",
    "   model_name='Facebook/bart-large-mnli',\n",
    "   model_version='100',\n",
    "   model=cross_model,\n",
    "   conda_dependencies=[\n",
    "       \"transformers==4.30.0\"\n",
    "   ],\n",
    "   signatures={\n",
    "       \"predict\": model_signature.ModelSignature(\n",
    "           inputs=[model_signature.FeatureSpec(name=\"input\", dtype=model_signature.DataType.STRING)],\n",
    "           outputs=[model_signature.FeatureSpec(name=\"output\", dtype=model_signature.DataType.STRING)],\n",
    "       )\n",
    "   }\n",
    ")"
   ]
  },
  {
   "cell_type": "code",
   "execution_count": null,
   "metadata": {},
   "outputs": [],
   "source": [
    "reference = model_registry.ModelReference(registry=registry, model_name='Facebook/bart-large-mnli', model_version='100')\n",
    "model = reference.load_model()\n",
    "model.predict(pd.DataFrame({\"input\":[\"The interface gets frozen very often\"]}))"
   ]
  },
  {
   "cell_type": "code",
   "execution_count": null,
   "metadata": {},
   "outputs": [],
   "source": [
    "model.set_metric(\"dataset_validation\", {\"accuracy\": 0.9})\n",
    "# Print all metrics related to the model\n",
    "print(model.get_metrics())\n"
   ]
  }
 ],
 "metadata": {
  "kernelspec": {
   "display_name": "base",
   "language": "python",
   "name": "python3"
  },
  "language_info": {
   "name": "python",
   "version": "undefined.undefined.undefined"
  }
 },
 "nbformat": 4,
 "nbformat_minor": 2
}
